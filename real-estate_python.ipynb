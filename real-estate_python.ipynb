{
 "cells": [
  {
   "cell_type": "code",
   "execution_count": 1,
   "metadata": {
    "collapsed": true
   },
   "outputs": [],
   "source": [
    "import pandas as pd\n",
    "import numpy as np\n",
    "import matplotlib.pyplot as plt"
   ]
  },
  {
   "cell_type": "code",
   "execution_count": 2,
   "metadata": {
    "collapsed": true
   },
   "outputs": [],
   "source": [
    "# it is necessary to change the file path\n",
    "df = pd.read_csv('/home/jaremciuc/data_analysis_test/assignment_data.csv')"
   ]
  },
  {
   "cell_type": "markdown",
   "metadata": {},
   "source": [
    "### show the 5 first elements from assignment_data.csv"
   ]
  },
  {
   "cell_type": "code",
   "execution_count": 3,
   "metadata": {},
   "outputs": [
    {
     "data": {
      "text/html": [
       "<div>\n",
       "<style scoped>\n",
       "    .dataframe tbody tr th:only-of-type {\n",
       "        vertical-align: middle;\n",
       "    }\n",
       "\n",
       "    .dataframe tbody tr th {\n",
       "        vertical-align: top;\n",
       "    }\n",
       "\n",
       "    .dataframe thead th {\n",
       "        text-align: right;\n",
       "    }\n",
       "</style>\n",
       "<table border=\"1\" class=\"dataframe\">\n",
       "  <thead>\n",
       "    <tr style=\"text-align: right;\">\n",
       "      <th></th>\n",
       "      <th>id</th>\n",
       "      <th>title</th>\n",
       "      <th>features</th>\n",
       "      <th>living_area</th>\n",
       "      <th>total_area</th>\n",
       "      <th>plot_area</th>\n",
       "      <th>price</th>\n",
       "    </tr>\n",
       "  </thead>\n",
       "  <tbody>\n",
       "    <tr>\n",
       "      <th>0</th>\n",
       "      <td>44525</td>\n",
       "      <td>Stunning 6 bedroom villa in the heart of the G...</td>\n",
       "      <td>NaN</td>\n",
       "      <td>NaN</td>\n",
       "      <td>918.0</td>\n",
       "      <td>NaN</td>\n",
       "      <td>4400000</td>\n",
       "    </tr>\n",
       "    <tr>\n",
       "      <th>1</th>\n",
       "      <td>44859</td>\n",
       "      <td>Villa for sale in Rocio de Nagüeles, Marbella ...</td>\n",
       "      <td>NaN</td>\n",
       "      <td>NaN</td>\n",
       "      <td>NaN</td>\n",
       "      <td>NaN</td>\n",
       "      <td>2400000</td>\n",
       "    </tr>\n",
       "    <tr>\n",
       "      <th>2</th>\n",
       "      <td>45465</td>\n",
       "      <td>One level 5 bedroom villa for sale in Nagüeles</td>\n",
       "      <td>NaN</td>\n",
       "      <td>NaN</td>\n",
       "      <td>393.0</td>\n",
       "      <td>NaN</td>\n",
       "      <td>1900000</td>\n",
       "    </tr>\n",
       "    <tr>\n",
       "      <th>3</th>\n",
       "      <td>50685</td>\n",
       "      <td>Large estate for sale in Rocio de Nagueles</td>\n",
       "      <td>NaN</td>\n",
       "      <td>0.0</td>\n",
       "      <td>640.0</td>\n",
       "      <td>0.0</td>\n",
       "      <td>4250000</td>\n",
       "    </tr>\n",
       "    <tr>\n",
       "      <th>4</th>\n",
       "      <td>130728</td>\n",
       "      <td>Palatial Villa on Marbellas Golden Mile with ...</td>\n",
       "      <td>Fireplace, Elevator, Terrace, Mountain view, F...</td>\n",
       "      <td>0.0</td>\n",
       "      <td>4903.0</td>\n",
       "      <td>11000.0</td>\n",
       "      <td>32000000</td>\n",
       "    </tr>\n",
       "    <tr>\n",
       "      <th>5</th>\n",
       "      <td>130856</td>\n",
       "      <td>Large plot with fantastic views in Nagüeles</td>\n",
       "      <td>Mountain view</td>\n",
       "      <td>0.0</td>\n",
       "      <td>0.0</td>\n",
       "      <td>5528.0</td>\n",
       "      <td>2900000</td>\n",
       "    </tr>\n",
       "  </tbody>\n",
       "</table>\n",
       "</div>"
      ],
      "text/plain": [
       "       id                                              title  \\\n",
       "0   44525  Stunning 6 bedroom villa in the heart of the G...   \n",
       "1   44859  Villa for sale in Rocio de Nagüeles, Marbella ...   \n",
       "2   45465     One level 5 bedroom villa for sale in Nagüeles   \n",
       "3   50685         Large estate for sale in Rocio de Nagueles   \n",
       "4  130728  Palatial Villa on Marbellas Golden Mile with ...   \n",
       "5  130856        Large plot with fantastic views in Nagüeles   \n",
       "\n",
       "                                            features  living_area  total_area  \\\n",
       "0                                                NaN          NaN       918.0   \n",
       "1                                                NaN          NaN         NaN   \n",
       "2                                                NaN          NaN       393.0   \n",
       "3                                                NaN          0.0       640.0   \n",
       "4  Fireplace, Elevator, Terrace, Mountain view, F...          0.0      4903.0   \n",
       "5                                      Mountain view          0.0         0.0   \n",
       "\n",
       "   plot_area     price  \n",
       "0        NaN   4400000  \n",
       "1        NaN   2400000  \n",
       "2        NaN   1900000  \n",
       "3        0.0   4250000  \n",
       "4    11000.0  32000000  \n",
       "5     5528.0   2900000  "
      ]
     },
     "execution_count": 3,
     "metadata": {},
     "output_type": "execute_result"
    }
   ],
   "source": [
    "df.head(6)"
   ]
  },
  {
   "cell_type": "markdown",
   "metadata": {},
   "source": [
    " ### The functions below creates a csv file with the residence type, location, and features of each dataset observation"
   ]
  },
  {
   "cell_type": "code",
   "execution_count": 4,
   "metadata": {
    "collapsed": true
   },
   "outputs": [],
   "source": [
    "def remove_nan():\n",
    "    '''Removes the NaN elements from the data set'''\n",
    "    #replaces NaN elements by 0\n",
    "    df['plot_area'].fillna(0.0, inplace=True)\n",
    "    df['total_area'].fillna(0.0, inplace=True)\n",
    "    df['living_area'].fillna(0.0, inplace=True)\n",
    "    \n",
    "    #replaces NaN elements by ''\n",
    "    df['features'].fillna('', inplace=True)\n",
    "    df['title'].fillna('', inplace=True)"
   ]
  },
  {
   "cell_type": "code",
   "execution_count": 5,
   "metadata": {
    "collapsed": true
   },
   "outputs": [],
   "source": [
    "def create_plot():\n",
    "    '''Creates the plot column'''\n",
    "    df['plot'] = np.logical_and(df['plot_area']>0.0, df['living_area']==0.0, dtype=bool) # compares two columns and brings a Boolean result\n",
    "    df['plot'] = (df['plot'] == True).astype(int) # transforms a Boolean result into 0 or 1\n",
    "    df['plot'] = np.logical_and(df['total_area']==0.0, df['plot']==1, dtype=bool)\n",
    "    df['plot'] = (df['plot'] == True).astype(int)\n",
    "    \n",
    "    # replaces the logical output per 'plot' or ''\n",
    "    df['plot']=df['plot'].replace(to_replace=1,value='plot')\n",
    "    df['plot']=df['plot'].replace(to_replace=0,value='')"
   ]
  },
  {
   "cell_type": "code",
   "execution_count": 6,
   "metadata": {
    "collapsed": true
   },
   "outputs": [],
   "source": [
    "def create_apartment():\n",
    "    '''Creates the apartment column'''\n",
    "    # apartment type check\n",
    "    df['apartamento'] = np.logical_and(df['plot']=='', df['title'].str.contains('partment', case=True).astype(int))\n",
    "    df['apartamento']=df['apartamento'].replace(to_replace=True,value='apartment')\n",
    "    df['apartamento']=df['apartamento'].replace(to_replace=False,value='')\n",
    "    \n",
    "    # penthouse type check\n",
    "    df['apartamento'] = np.logical_or(df['apartamento']=='apartment', df['title'].str.contains('enthouse', case=True).astype(int))\n",
    "    df['apartamento']=df['apartamento'].replace(to_replace=True,value='apartment') \n",
    "    df['apartamento']=df['apartamento'].replace(to_replace=False,value='')\n",
    "    \n",
    "    # duplex type check\n",
    "    df['apartamento'] = np.logical_or(df['apartamento']=='apartment', df['title'].str.contains('uplex', case=True).astype(int))\n",
    "    df['apartamento']=df['apartamento'].replace(to_replace=True,value='apartment')\n",
    "    df['apartamento']=df['apartamento'].replace(to_replace=False,value='')\n"
   ]
  },
  {
   "cell_type": "code",
   "execution_count": 7,
   "metadata": {
    "collapsed": true
   },
   "outputs": [],
   "source": [
    "def create_house():\n",
    "    '''Creates the house column'''\n",
    "    # house type check\n",
    "    df['house'] = np.logical_and(df['plot']=='', df['apartamento']=='')\n",
    "    df['house']=df['house'].replace(to_replace=True,value='house')\n",
    "    df['house']=df['house'].replace(to_replace=False,value='')"
   ]
  },
  {
   "cell_type": "code",
   "execution_count": 8,
   "metadata": {
    "collapsed": true
   },
   "outputs": [],
   "source": [
    "def types_clean():\n",
    "    '''Concatenates and erases the auxiliary columns used for creating the column types'''\n",
    "    df['type'] = df['plot'] + df['apartamento'] + df['house']\n",
    "    del df['plot']\n",
    "    del df['apartamento']\n",
    "    del df['house']"
   ]
  },
  {
   "cell_type": "code",
   "execution_count": 9,
   "metadata": {
    "collapsed": true
   },
   "outputs": [],
   "source": [
    "def create_locations():\n",
    "    '''Creates the locations column'''\n",
    "    # Alenquer locations check\n",
    "    df['Alenquer'] = np.logical_or(df['title'].str.contains('Alenquer', case=True).astype(int), df['features'].str.contains('Alenquer', case=True).astype(int)) \n",
    "    df['Alenquer'] = df['Alenquer'].replace(to_replace=True,value='Alenquer')\n",
    "    df['Alenquer'] = df['Alenquer'].replace(to_replace=False,value='')\n",
    "    \n",
    "    # Quinta da Marinha locations check\n",
    "    df['Quinta'] = np.logical_or(df['title'].str.contains('Quinta', case=True).astype(int), df['features'].str.contains('Quinta', case=True).astype(int)) \n",
    "    df['Quinta'] = df['Quinta'].replace(to_replace=True,value='Quinta')\n",
    "    df['Quinta'] = df['Quinta'].replace(to_replace=False,value='')\n",
    "    \n",
    "    # Golden Mile locations check\n",
    "    df['Golden'] = np.logical_or(df['title'].str.contains('Golden', case=True).astype(int), df['features'].str.contains('Golden', case=True).astype(int)) \n",
    "    df['Golden'] = df['Golden'].replace(to_replace=True,value='Golden Mile')\n",
    "    df['Golden'] = df['Golden'].replace(to_replace=False,value='')\n",
    "    \n",
    "    # Nagüeles locations check\n",
    "    df['teste'] = np.logical_and(df['Alenquer']=='', df['Quinta']=='')\n",
    "    df['teste']=df['teste'].replace(to_replace=True,value='Nagüeles')\n",
    "    df['teste']=df['teste'].replace(to_replace=False,value='')\n",
    "\n",
    "    df['Nagüeles'] = np.logical_and(df['teste']=='Nagüeles', df['Golden']=='')\n",
    "    df['Nagüeles']=df['Nagüeles'].replace(to_replace=True,value='Nagüeles')\n",
    "    df['Nagüeles']=df['Nagüeles'].replace(to_replace=False,value='')\n",
    "\n",
    "    del df['teste']\n",
    "    \n",
    "    df['locations'] = df['Nagüeles'] + df['Alenquer'] + df['Quinta'] + df['Golden']\n"
   ]
  },
  {
   "cell_type": "code",
   "execution_count": 10,
   "metadata": {
    "collapsed": true
   },
   "outputs": [],
   "source": [
    "def concat_clean():\n",
    "    '''Concatenates and erases the auxiliary columns used for creating the column locations'''\n",
    "\n",
    "    del df['Golden']\n",
    "    del df['Nagüeles']\n",
    "    del df['Quinta']\n",
    "    del df['Alenquer']"
   ]
  },
  {
   "cell_type": "code",
   "execution_count": 11,
   "metadata": {
    "collapsed": true
   },
   "outputs": [],
   "source": [
    "def create_features():\n",
    "    '''Creates the features column'''\n",
    "\n",
    "    # swimming pool features check\n",
    "    df['teste'] = np.logical_or(df['title'].str.contains('pool', case=True).astype(int), df['features'].str.contains('pool', case=True).astype(int)) \n",
    "    df['teste'] = df['teste'].replace(to_replace=True,value='1')\n",
    "    df['teste'] = df['teste'].replace(to_replace=False,value='0')\n",
    "\n",
    "    df['pool'] = np.logical_or(df['teste'].str.contains('1', case=True).astype(int), df['features'].str.contains('piscina', case=True).astype(int)) \n",
    "    df['pool'] = df['pool'].replace(to_replace=True,value='1')\n",
    "    df['pool'] = df['pool'].replace(to_replace=False,value='0')\n",
    "\n",
    "    del df['teste']\n",
    "    \n",
    "    # swimming garage check\n",
    "    df['garage'] = np.logical_or(df['title'].str.contains('arage', case=True).astype(int), df['features'].str.contains('arage', case=True).astype(int)) \n",
    "    df['garage'] = df['garage'].replace(to_replace=True,value='1')\n",
    "    df['garage'] = df['garage'].replace(to_replace=False,value='0')\n",
    "    \n",
    "    # makes all lowercase letters in the features and title columns    \n",
    "    df['lower_features'] = df['features'].map(lambda x: x.lower())\n",
    "    df['lower_title'] = df['title'].map(lambda x: x.lower())\n",
    "    \n",
    "    # sea view garage check\n",
    "    df['sea view'] = np.logical_or(df['lower_title'].str.contains('sea view', case=True).astype(int), df['lower_features'].str.contains('sea view', case=True).astype(int)) \n",
    "    df['sea view'] = df['sea view'].replace(to_replace=True,value='1')\n",
    "    df['sea view'] = df['sea view'].replace(to_replace=False,value='0')\n",
    "    \n",
    "    del df['lower_features']\n",
    "    del df['lower_title']"
   ]
  },
  {
   "cell_type": "markdown",
   "metadata": {},
   "source": [
    " ### Execute the functions"
   ]
  },
  {
   "cell_type": "code",
   "execution_count": 12,
   "metadata": {},
   "outputs": [],
   "source": [
    "remove_nan()\n",
    "create_plot()\n",
    "create_apartment()\n",
    "create_house()\n",
    "types_clean()\n",
    "create_locations()\n",
    "concat_clean()\n",
    "create_features()\n"
   ]
  },
  {
   "cell_type": "markdown",
   "metadata": {},
   "source": [
    "### Final table"
   ]
  },
  {
   "cell_type": "code",
   "execution_count": 13,
   "metadata": {},
   "outputs": [
    {
     "data": {
      "text/html": [
       "<div>\n",
       "<style scoped>\n",
       "    .dataframe tbody tr th:only-of-type {\n",
       "        vertical-align: middle;\n",
       "    }\n",
       "\n",
       "    .dataframe tbody tr th {\n",
       "        vertical-align: top;\n",
       "    }\n",
       "\n",
       "    .dataframe thead th {\n",
       "        text-align: right;\n",
       "    }\n",
       "</style>\n",
       "<table border=\"1\" class=\"dataframe\">\n",
       "  <thead>\n",
       "    <tr style=\"text-align: right;\">\n",
       "      <th></th>\n",
       "      <th>id</th>\n",
       "      <th>title</th>\n",
       "      <th>features</th>\n",
       "      <th>living_area</th>\n",
       "      <th>total_area</th>\n",
       "      <th>plot_area</th>\n",
       "      <th>price</th>\n",
       "      <th>type</th>\n",
       "      <th>locations</th>\n",
       "      <th>pool</th>\n",
       "      <th>garage</th>\n",
       "      <th>sea view</th>\n",
       "    </tr>\n",
       "  </thead>\n",
       "  <tbody>\n",
       "    <tr>\n",
       "      <th>0</th>\n",
       "      <td>44525</td>\n",
       "      <td>Stunning 6 bedroom villa in the heart of the G...</td>\n",
       "      <td></td>\n",
       "      <td>0.0</td>\n",
       "      <td>918.0</td>\n",
       "      <td>0.0</td>\n",
       "      <td>4400000</td>\n",
       "      <td>house</td>\n",
       "      <td>Golden Mile</td>\n",
       "      <td>0</td>\n",
       "      <td>0</td>\n",
       "      <td>0</td>\n",
       "    </tr>\n",
       "    <tr>\n",
       "      <th>1</th>\n",
       "      <td>44859</td>\n",
       "      <td>Villa for sale in Rocio de Nagüeles, Marbella ...</td>\n",
       "      <td></td>\n",
       "      <td>0.0</td>\n",
       "      <td>0.0</td>\n",
       "      <td>0.0</td>\n",
       "      <td>2400000</td>\n",
       "      <td>house</td>\n",
       "      <td>Golden Mile</td>\n",
       "      <td>0</td>\n",
       "      <td>0</td>\n",
       "      <td>0</td>\n",
       "    </tr>\n",
       "    <tr>\n",
       "      <th>2</th>\n",
       "      <td>45465</td>\n",
       "      <td>One level 5 bedroom villa for sale in Nagüeles</td>\n",
       "      <td></td>\n",
       "      <td>0.0</td>\n",
       "      <td>393.0</td>\n",
       "      <td>0.0</td>\n",
       "      <td>1900000</td>\n",
       "      <td>house</td>\n",
       "      <td>Nagüeles</td>\n",
       "      <td>0</td>\n",
       "      <td>0</td>\n",
       "      <td>0</td>\n",
       "    </tr>\n",
       "    <tr>\n",
       "      <th>3</th>\n",
       "      <td>50685</td>\n",
       "      <td>Large estate for sale in Rocio de Nagueles</td>\n",
       "      <td></td>\n",
       "      <td>0.0</td>\n",
       "      <td>640.0</td>\n",
       "      <td>0.0</td>\n",
       "      <td>4250000</td>\n",
       "      <td>house</td>\n",
       "      <td>Nagüeles</td>\n",
       "      <td>0</td>\n",
       "      <td>0</td>\n",
       "      <td>0</td>\n",
       "    </tr>\n",
       "  </tbody>\n",
       "</table>\n",
       "</div>"
      ],
      "text/plain": [
       "      id                                              title features  \\\n",
       "0  44525  Stunning 6 bedroom villa in the heart of the G...            \n",
       "1  44859  Villa for sale in Rocio de Nagüeles, Marbella ...            \n",
       "2  45465     One level 5 bedroom villa for sale in Nagüeles            \n",
       "3  50685         Large estate for sale in Rocio de Nagueles            \n",
       "\n",
       "   living_area  total_area  plot_area    price   type    locations pool  \\\n",
       "0          0.0       918.0        0.0  4400000  house  Golden Mile    0   \n",
       "1          0.0         0.0        0.0  2400000  house  Golden Mile    0   \n",
       "2          0.0       393.0        0.0  1900000  house     Nagüeles    0   \n",
       "3          0.0       640.0        0.0  4250000  house     Nagüeles    0   \n",
       "\n",
       "  garage sea view  \n",
       "0      0        0  \n",
       "1      0        0  \n",
       "2      0        0  \n",
       "3      0        0  "
      ]
     },
     "execution_count": 13,
     "metadata": {},
     "output_type": "execute_result"
    }
   ],
   "source": [
    "df.head(4)"
   ]
  },
  {
   "cell_type": "markdown",
   "metadata": {},
   "source": [
    "## The code below creates scatter plots of the apartments in Golden Mile in relation to its prices per square meter and its features"
   ]
  },
  {
   "cell_type": "code",
   "execution_count": 14,
   "metadata": {
    "collapsed": true
   },
   "outputs": [],
   "source": [
    "golden = df[df['locations']=='Golden Mile']\n",
    "goldenap = golden[golden['type']=='apartment']"
   ]
  },
  {
   "cell_type": "markdown",
   "metadata": {},
   "source": [
    "### Apartments in Golden Mile with swimming pool"
   ]
  },
  {
   "cell_type": "code",
   "execution_count": 16,
   "metadata": {},
   "outputs": [
    {
     "data": {
      "image/png": "[encoded data removed]",
      "text/plain": [
       "<matplotlib.figure.Figure at 0x7f59c6e19320>"
      ]
     },
     "metadata": {},
     "output_type": "display_data"
    }
   ],
   "source": [
    "# apartments in Golden Mile with swimming pool\n",
    "goldenap_p = goldenap[(goldenap['pool']=='1') & (goldenap['garage']=='0') & (goldenap['sea view']=='0')].copy()\n",
    "\n",
    "# Creates price column by square meters\n",
    "goldenap_p['total_area'] = goldenap_p['total_area'].astype(int).copy()\n",
    "goldenap_p['m_qdr'] = ((goldenap_p['price'] / df['total_area']))\n",
    "\n",
    "plt.scatter(goldenap_p['total_area'], goldenap_p['price'], s=20, c=goldenap_p['m_qdr'])\n",
    "plt.title(\"prices of apartments with swimming pool in m_sqtr\")\n",
    "plt.xlabel(\"m_sqtr\")\n",
    "plt.ylabel(\"Prices\")\n",
    "plt.show()"
   ]
  },
  {
   "cell_type": "markdown",
   "metadata": {},
   "source": [
    "It is possible to visualize in the graph that there are two elements very distant from the greater concentration of average prices. An apartment with the footage very high for the average of prices practiced and another one that has a very great distance in relation to the other observations."
   ]
  },
  {
   "cell_type": "markdown",
   "metadata": {},
   "source": [
    "### Apartments in Golden Mile with garage"
   ]
  },
  {
   "cell_type": "code",
   "execution_count": 17,
   "metadata": {},
   "outputs": [
    {
     "data": {
      "image/png": "[encoded data removed]",
      "text/plain": [
       "<matplotlib.figure.Figure at 0x7f59c6dc9be0>"
      ]
     },
     "metadata": {},
     "output_type": "display_data"
    }
   ],
   "source": [
    "goldenap_g = goldenap[(goldenap['pool']=='0') & (goldenap['garage']=='1') & (goldenap['sea view']=='0')].copy()\n",
    "\n",
    "# Creates price column by square meters\n",
    "goldenap_g['total_area'] = goldenap_g['total_area'].astype(int)\n",
    "goldenap_g['m_qdr'] = ((goldenap_g['price'] / df['total_area']))\n",
    "\n",
    "plt.scatter(goldenap_g['total_area'], goldenap_g['price'], s=20, c=goldenap_g['m_qdr'])\n",
    "plt.title(\"prices of apartments with garage in m_sqtr\")\n",
    "plt.xlabel(\"m_sqtr\")\n",
    "plt.ylabel(\"Prices\")\n",
    "plt.show()"
   ]
  },
  {
   "cell_type": "markdown",
   "metadata": {},
   "source": [
    "Apparently the average prices shown in this chart are extremely inelastic, ie a small variation in the size of the apartment generates a huge variation in price. There is an outlier in the sample."
   ]
  },
  {
   "cell_type": "markdown",
   "metadata": {},
   "source": [
    "### Apartments in Golden Mile with sea view \n"
   ]
  },
  {
   "cell_type": "code",
   "execution_count": 18,
   "metadata": {},
   "outputs": [
    {
     "data": {
      "image/png": "[encoded data removed]",
      "text/plain": [
       "<matplotlib.figure.Figure at 0x7f59c34f5978>"
      ]
     },
     "metadata": {},
     "output_type": "display_data"
    }
   ],
   "source": [
    "goldenap_g = goldenap[(goldenap['pool']=='0') & (goldenap['garage']=='0') & (goldenap['sea view']=='1')].copy()\n",
    "\n",
    "# Creates price column by square meters\n",
    "goldenap_g['total_area'] = goldenap_g['total_area'].astype(int)\n",
    "goldenap_g['m_qdr'] = ((goldenap_g['price'] / df['total_area']))\n",
    "\n",
    "plt.scatter(goldenap_g['total_area'], goldenap_g['price'], s=20, c=goldenap_g['m_qdr'])\n",
    "plt.title(\"prices of apartments with sea view and pool in m_sqtr\")\n",
    "plt.xlabel(\"m_sqtr\")\n",
    "plt.ylabel(\"Prices\")\n",
    "plt.show()"
   ]
  },
  {
   "cell_type": "markdown",
   "metadata": {},
   "source": [
    "### Apartments in Golden Mile with swimming pool and garage"
   ]
  },
  {
   "cell_type": "code",
   "execution_count": 19,
   "metadata": {},
   "outputs": [
    {
     "data": {
      "image/png": "[encoded data removed]",
      "text/plain": [
       "<matplotlib.figure.Figure at 0x7f59c34e6080>"
      ]
     },
     "metadata": {},
     "output_type": "display_data"
    }
   ],
   "source": [
    "goldenap_p = goldenap[(goldenap['pool']=='1') & (goldenap['garage']=='1') & (goldenap['sea view']=='0')].copy()\n",
    "\n",
    "# Creates price column by square meters\n",
    "goldenap_p['total_area'] = goldenap_p['total_area'].astype(int).copy()\n",
    "goldenap_p['m_qdr'] = ((goldenap_p['price'] / df['total_area']))\n",
    "\n",
    "plt.scatter(goldenap_p['total_area'], goldenap_p['price'], s=20, c=goldenap_p['m_qdr'])\n",
    "plt.title(\"prices of apartments with pool and garage in m_sqtr\")\n",
    "plt.xlabel(\"m_sqtr\")\n",
    "plt.ylabel(\"Prices\")\n",
    "plt.show()"
   ]
  },
  {
   "cell_type": "markdown",
   "metadata": {},
   "source": [
    "There are few observations to analyze this sample"
   ]
  },
  {
   "cell_type": "markdown",
   "metadata": {},
   "source": [
    "### Apartments in Golden Mile with garage and sea view\n"
   ]
  },
  {
   "cell_type": "code",
   "execution_count": 20,
   "metadata": {},
   "outputs": [
    {
     "data": {
      "image/png": "[encoded data removed]",
      "text/plain": [
       "<matplotlib.figure.Figure at 0x7f59c6e01780>"
      ]
     },
     "metadata": {},
     "output_type": "display_data"
    }
   ],
   "source": [
    "goldenap_g = goldenap[(goldenap['pool']=='0') & (goldenap['garage']=='1') & (goldenap['sea view']=='1')].copy()\n",
    "\n",
    "# Creates price column by square meters\n",
    "goldenap_g['total_area'] = goldenap_g['total_area'].astype(int)\n",
    "goldenap_g['m_qdr'] = ((goldenap_g['price'] / df['total_area']))\n",
    "\n",
    "plt.scatter(goldenap_g['total_area'], goldenap_g['price'], s=20, c=goldenap_g['m_qdr'])\n",
    "plt.title(\"prices of apartments with garage and sea view in m_sqtr\")\n",
    "plt.xlabel(\"m_sqtr\")\n",
    "plt.ylabel(\"Prices\")\n",
    "plt.show()"
   ]
  },
  {
   "cell_type": "markdown",
   "metadata": {},
   "source": [
    "### Apartments in Golden Mile with swimming pool and sea view"
   ]
  },
  {
   "cell_type": "code",
   "execution_count": 21,
   "metadata": {},
   "outputs": [
    {
     "data": {
      "image/png": "[encoded data removed]",
      "text/plain": [
       "<matplotlib.figure.Figure at 0x7f59c34a9438>"
      ]
     },
     "metadata": {},
     "output_type": "display_data"
    }
   ],
   "source": [
    "goldenap_g = goldenap[(goldenap['pool']=='1') & (goldenap['garage']=='0') & (goldenap['sea view']=='1')].copy()\n",
    "\n",
    "# Creates price column by square meters\n",
    "goldenap_g['total_area'] = goldenap_g['total_area'].astype(int)\n",
    "goldenap_g['m_qdr'] = ((goldenap_g['price'] / df['total_area']))\n",
    "\n",
    "plt.scatter(goldenap_g['total_area'], goldenap_g['price'], s=20, c=goldenap_g['m_qdr'])\n",
    "plt.title(\"prices of apartments with sea view and pool pool in m_sqtr\")\n",
    "plt.xlabel(\"m_sqtr\")\n",
    "plt.ylabel(\"Prices\")\n",
    "plt.show()\n",
    "fig6 = plt.show()"
   ]
  },
  {
   "cell_type": "markdown",
   "metadata": {},
   "source": [
    "### Apartments in Golden Mile without swimming pool, sea view and garage\n"
   ]
  },
  {
   "cell_type": "code",
   "execution_count": 22,
   "metadata": {},
   "outputs": [
    {
     "data": {
      "image/png": "[encoded data removed]",
      "text/plain": [
       "<matplotlib.figure.Figure at 0x7f59c34d2e80>"
      ]
     },
     "metadata": {},
     "output_type": "display_data"
    }
   ],
   "source": [
    "goldenap_g = goldenap[(goldenap['pool']=='0') & (goldenap['garage']=='0') & (goldenap['sea view']=='0')].copy()\n",
    "\n",
    "# Creates price column by square meters\n",
    "goldenap_g['total_area'] = goldenap_g['total_area'].astype(int)\n",
    "goldenap_g['m_qdr'] = ((goldenap_g['price'] / df['total_area']))\n",
    "\n",
    "plt.scatter(goldenap_g['total_area'], goldenap_g['price'], s=20, c=goldenap_g['m_qdr'])\n",
    "plt.title(\"prices of apartments without sea view, pool and garage in m_sqtr\")\n",
    "plt.xlabel(\"m_sqtr\")\n",
    "plt.ylabel(\"Prices\")\n",
    "plt.show()\n",
    "fig7 = plt.show()\n",
    "\n"
   ]
  }
 ],
 "metadata": {
  "kernelspec": {
   "display_name": "Python 3",
   "language": "python",
   "name": "python3"
  },
  "language_info": {
   "codemirror_mode": {
    "name": "ipython",
    "version": 3
   },
   "file_extension": ".py",
   "mimetype": "text/x-python",
   "name": "python",
   "nbconvert_exporter": "python",
   "pygments_lexer": "ipython3",
   "version": "3.6.3"
  }
 },
 "nbformat": 4,
 "nbformat_minor": 2
}
